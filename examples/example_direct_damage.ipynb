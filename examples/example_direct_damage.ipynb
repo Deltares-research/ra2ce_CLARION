{
 "cells": [
  {
   "cell_type": "code",
   "execution_count": 1,
   "metadata": {},
   "outputs": [],
   "source": [
    "import geopandas as gpd\n",
    "import matplotlib.pyplot as plt\n",
    "from pathlib import Path\n",
    "import pickle\n",
    "import rasterio"
   ]
  },
  {
   "cell_type": "code",
   "execution_count": 3,
   "metadata": {},
   "outputs": [],
   "source": [
    "from ra2ce.ra2ce_handler import Ra2ceHandler #import the ra2cehandler to run ra2ce analyses"
   ]
  },
  {
   "cell_type": "code",
   "execution_count": 16,
   "metadata": {},
   "outputs": [],
   "source": [
    "root_dir = Path(r'C:\\repos\\ra2ce\\examples\\data\\direct_analysis')"
   ]
  },
  {
   "cell_type": "code",
   "execution_count": 17,
   "metadata": {},
   "outputs": [],
   "source": [
    "_network_ini_name = \"network.ini\" #set the name for the network.ini\n",
    "_analysis_ini_name = \"analysis.ini\" #set the name for the analysis.ini\n",
    "\n",
    "network_ini = root_dir / _network_ini_name\n",
    "assert network_ini.is_file()\n",
    "\n",
    "analysis_ini = root_dir / _analysis_ini_name\n",
    "assert analysis_ini.is_file()"
   ]
  },
  {
   "cell_type": "code",
   "execution_count": 18,
   "metadata": {},
   "outputs": [
    {
     "name": "stderr",
     "output_type": "stream",
     "text": [
      "2023-11-08 05:14:37 PM - [ra2ce_logging.py:41] - root - INFO - RA2CE logger initialized.\n",
      "2023-11-08 05:14:37 PM - [ra2ce_logging.py:41] - root - INFO - RA2CE logger initialized.\n",
      "2023-11-08 05:14:37 PM - [network_wrapper_factory.py:53] - root - INFO - Start creating a network from the submitted shapefile.\n",
      "2023-11-08 05:14:37 PM - [network_wrapper_factory.py:53] - root - INFO - Start creating a network from the submitted shapefile.\n",
      "2023-11-08 05:14:37 PM - [osm_network_wrapper.py:56] - root - INFO - Start downloading a network from OSM.\n",
      "2023-11-08 05:14:37 PM - [osm_network_wrapper.py:56] - root - INFO - Start downloading a network from OSM.\n",
      "2023-11-08 05:14:38 PM - [osm_network_wrapper.py:176] - root - INFO - graph downloaded from OSM with 4,739 nodes and 9,932 edges\n",
      "2023-11-08 05:14:38 PM - [osm_network_wrapper.py:176] - root - INFO - graph downloaded from OSM with 4,739 nodes and 9,932 edges\n",
      "c:\\repos\\ra2ce\\.env\\lib\\site-packages\\osmnx\\simplification.py:454: UserWarning: Geometry is in a geographic CRS. Results from 'buffer' are likely incorrect. Use 'GeoSeries.to_crs()' to re-project geometries to a projected CRS before this operation.\n",
      "\n",
      "  merged = utils_graph.graph_to_gdfs(G, edges=False)[\"geometry\"].buffer(tolerance).unary_union\n",
      "c:\\repos\\ra2ce\\.env\\lib\\site-packages\\osmnx\\simplification.py:501: UserWarning: Geometry is in a geographic CRS. Results from 'centroid' are likely incorrect. Use 'GeoSeries.to_crs()' to re-project geometries to a projected CRS before this operation.\n",
      "\n",
      "  centroids = node_clusters.centroid\n",
      "2023-11-08 05:14:41 PM - [networks_utils.py:985] - root - INFO - Simplifying graph\n",
      "2023-11-08 05:14:41 PM - [networks_utils.py:985] - root - INFO - Simplifying graph\n",
      "2023-11-08 05:14:41 PM - [networks_utils.py:1084] - root - INFO - Added a new unique identifier field 'rfid_c'.\n",
      "2023-11-08 05:14:41 PM - [networks_utils.py:1084] - root - INFO - Added a new unique identifier field 'rfid_c'.\n",
      "2023-11-08 05:14:42 PM - [networks_utils.py:1117] - root - INFO - Graph simplified from 4,739 to 1,538 nodes and 9,932 to 3,988 edges.\n",
      "2023-11-08 05:14:42 PM - [networks_utils.py:1117] - root - INFO - Graph simplified from 4,739 to 1,538 nodes and 9,932 to 3,988 edges.\n",
      "2023-11-08 05:14:42 PM - [networks_utils.py:1084] - root - INFO - Added a new unique identifier field 'rfid'.\n",
      "2023-11-08 05:14:42 PM - [networks_utils.py:1084] - root - INFO - Added a new unique identifier field 'rfid'.\n",
      "100%|██████████| 3988/3988 [00:00<00:00, 235281.73it/s]\n",
      "2023-11-08 05:14:42 PM - [networks_utils.py:1520] - root - INFO - Lookup tables from complex to simple and vice versa were created\n",
      "2023-11-08 05:14:42 PM - [networks_utils.py:1520] - root - INFO - Lookup tables from complex to simple and vice versa were created\n",
      "2023-11-08 05:14:42 PM - [networks_utils.py:1003] - root - INFO - Simplified graph succesfully created\n",
      "2023-11-08 05:14:42 PM - [networks_utils.py:1003] - root - INFO - Simplified graph succesfully created\n",
      "2023-11-08 05:14:42 PM - [osm_network_wrapper.py:65] - root - INFO - Start converting the graph to a geodataframe\n",
      "2023-11-08 05:14:42 PM - [osm_network_wrapper.py:65] - root - INFO - Start converting the graph to a geodataframe\n",
      "2023-11-08 05:14:43 PM - [osm_network_wrapper.py:67] - root - INFO - Finished converting the graph to a geodataframe\n",
      "2023-11-08 05:14:43 PM - [osm_network_wrapper.py:67] - root - INFO - Finished converting the graph to a geodataframe\n",
      "2023-11-08 05:14:43 PM - [json_exporter.py:46] - root - INFO - Saved (or overwrote) simple_to_complex.json\n",
      "2023-11-08 05:14:43 PM - [json_exporter.py:46] - root - INFO - Saved (or overwrote) simple_to_complex.json\n",
      "2023-11-08 05:14:43 PM - [json_exporter.py:46] - root - INFO - Saved (or overwrote) complex_to_simple.json\n",
      "2023-11-08 05:14:43 PM - [json_exporter.py:46] - root - INFO - Saved (or overwrote) complex_to_simple.json\n",
      "2023-11-08 05:14:43 PM - [networks_utils.py:1649] - root - INFO - Not all of the edges contain a 'maxspeed' attribute. RA2CE will guess the right average maximum speed per road type that does not contain a 'maxspeed' attribute. Please check the average speed CSV to ensure correct speeds here: C:\\repos\\ra2ce\\examples\\data\\direct_analysis\\static\\output_graph\\avg_speed.csv\n",
      "2023-11-08 05:14:43 PM - [networks_utils.py:1649] - root - INFO - Not all of the edges contain a 'maxspeed' attribute. RA2CE will guess the right average maximum speed per road type that does not contain a 'maxspeed' attribute. Please check the average speed CSV to ensure correct speeds here: C:\\repos\\ra2ce\\examples\\data\\direct_analysis\\static\\output_graph\\avg_speed.csv\n",
      "C:\\repos\\ra2ce\\ra2ce\\graph\\networks_utils.py:1666: SettingWithCopyWarning: \n",
      "A value is trying to be set on a copy of a slice from a DataFrame\n",
      "\n",
      "See the caveats in the documentation: https://pandas.pydata.org/pandas-docs/stable/user_guide/indexing.html#returning-a-view-versus-a-copy\n",
      "  df[\"avg_speed\"].iloc[i] = df.loc[\n",
      "2023-11-08 05:14:43 PM - [networks_utils.py:1680] - root - INFO - Saved the average speeds per road type to: C:\\repos\\ra2ce\\examples\\data\\direct_analysis\\static\\output_graph\\avg_speed.csv\n",
      "2023-11-08 05:14:43 PM - [networks_utils.py:1680] - root - INFO - Saved the average speeds per road type to: C:\\repos\\ra2ce\\examples\\data\\direct_analysis\\static\\output_graph\\avg_speed.csv\n",
      "C:\\repos\\ra2ce\\ra2ce\\graph\\network_wrappers\\osm_network_wrapper\\osm_network_wrapper.py:101: RuntimeWarning: divide by zero encountered in scalar divide\n",
      "  hours = (edata[\"length\"] / 1000) / edata[\"avgspeed\"]\n",
      "2023-11-08 05:14:46 PM - [multi_graph_network_exporter.py:56] - root - INFO - Saved base_graph in C:\\repos\\ra2ce\\examples\\data\\direct_analysis\\static\\output_graph.\n",
      "2023-11-08 05:14:46 PM - [multi_graph_network_exporter.py:56] - root - INFO - Saved base_graph in C:\\repos\\ra2ce\\examples\\data\\direct_analysis\\static\\output_graph.\n",
      "2023-11-08 05:14:46 PM - [geodataframe_network_exporter.py:42] - root - INFO - Saved base_network in C:\\repos\\ra2ce\\examples\\data\\direct_analysis\\static\\output_graph.\n",
      "2023-11-08 05:14:46 PM - [geodataframe_network_exporter.py:42] - root - INFO - Saved base_network in C:\\repos\\ra2ce\\examples\\data\\direct_analysis\\static\\output_graph.\n",
      "2023-11-08 05:14:46 PM - [hazard_overlay.py:99] - root - INFO - Initialized hazard object.\n",
      "2023-11-08 05:14:46 PM - [hazard_overlay.py:99] - root - INFO - Initialized hazard object.\n",
      "2023-11-08 05:14:46 PM - [hazard_overlay.py:589] - root - WARNING - Hazard crs EPSG:32736 and graph crs EPSG:4326 are inconsistent,\n",
      "                                                  we try to reproject the graph crs\n",
      "2023-11-08 05:14:46 PM - [hazard_overlay.py:589] - root - WARNING - Hazard crs EPSG:32736 and graph crs EPSG:4326 are inconsistent,\n",
      "                                                  we try to reproject the graph crs\n",
      "2023-11-08 05:14:46 PM - [hazard_overlay.py:475] - root - INFO - Graph extent before reprojecting: (34.8306716, 34.9018585, -19.8516179, -19.8146269)\n",
      "2023-11-08 05:14:46 PM - [hazard_overlay.py:475] - root - INFO - Graph extent before reprojecting: (34.8306716, 34.9018585, -19.8516179, -19.8146269)\n",
      "2023-11-08 05:14:46 PM - [hazard_overlay.py:478] - root - INFO - Graph extent after reprojecting: (691720.1113245634, 699171.3027664868, 7803842.265108297, 7807969.273631489)\n",
      "2023-11-08 05:14:46 PM - [hazard_overlay.py:478] - root - INFO - Graph extent after reprojecting: (691720.1113245634, 699171.3027664868, 7803842.265108297, 7807969.273631489)\n",
      "Graph hazard overlay with max_flood_depth: 100%|██████████| 2181/2181 [00:19<00:00, 114.31it/s]\n",
      "Graph fraction with hazard overlay with max_flood_depth: 100%|██████████| 2181/2181 [00:34<00:00, 63.83it/s] \n",
      "2023-11-08 05:15:40 PM - [multi_graph_network_exporter.py:56] - root - INFO - Saved base_graph_hazard in C:\\repos\\ra2ce\\examples\\data\\direct_analysis\\static\\output_graph.\n",
      "2023-11-08 05:15:40 PM - [multi_graph_network_exporter.py:56] - root - INFO - Saved base_graph_hazard in C:\\repos\\ra2ce\\examples\\data\\direct_analysis\\static\\output_graph.\n",
      "2023-11-08 05:15:40 PM - [hazard_overlay.py:724] - root - INFO - Iterating overlay of GeoPandas Dataframe.\n",
      "2023-11-08 05:15:40 PM - [hazard_overlay.py:724] - root - INFO - Iterating overlay of GeoPandas Dataframe.\n",
      "2023-11-08 05:15:40 PM - [hazard_overlay.py:732] - root - WARNING - Hazard crs EPSG:32736 and gdf crs epsg:4326 are inconsistent,\n",
      "                                                we try to reproject the gdf crs\n",
      "2023-11-08 05:15:40 PM - [hazard_overlay.py:732] - root - WARNING - Hazard crs EPSG:32736 and gdf crs epsg:4326 are inconsistent,\n",
      "                                                we try to reproject the gdf crs\n",
      "2023-11-08 05:15:40 PM - [hazard_overlay.py:739] - root - INFO - Gdf extent before reprojecting: [ 34.8306716 -19.8516179  34.9018585 -19.8146269]\n",
      "2023-11-08 05:15:40 PM - [hazard_overlay.py:739] - root - INFO - Gdf extent before reprojecting: [ 34.8306716 -19.8516179  34.9018585 -19.8146269]\n",
      "2023-11-08 05:15:40 PM - [hazard_overlay.py:742] - root - INFO - Gdf extent after reprojecting: [ 691720.11132456 7803842.2651083   699171.30276649 7807969.27363149]\n",
      "2023-11-08 05:15:40 PM - [hazard_overlay.py:742] - root - INFO - Gdf extent after reprojecting: [ 691720.11132456 7803842.2651083   699171.30276649 7807969.27363149]\n",
      "2023-11-08 05:15:40 PM - [hazard_intersect_builder_for_tif.py:181] - root - WARNING - Some geometries have NoneType objects (no coordinate information), namely: Empty GeoDataFrame\n",
      "Columns: [osmid, oneway, highway, reversed, length, rfid_c, rfid, name, maxspeed, lanes, ref, junction, bridge, geometry]\n",
      "Index: [].This could be due to segmentation, and might cause an exception in hazard overlay\n",
      "2023-11-08 05:15:40 PM - [hazard_intersect_builder_for_tif.py:181] - root - WARNING - Some geometries have NoneType objects (no coordinate information), namely: Empty GeoDataFrame\n",
      "Columns: [osmid, oneway, highway, reversed, length, rfid_c, rfid, name, maxspeed, lanes, ref, junction, bridge, geometry]\n",
      "Index: [].This could be due to segmentation, and might cause an exception in hazard overlay\n",
      "Network hazard overlay with max_flood_depth: 100%|██████████| 9932/9932 [01:16<00:00, 129.91it/s]\n",
      "Network fraction with hazard overlay with max_flood_depth: 100%|██████████| 9932/9932 [01:25<00:00, 116.80it/s]\n",
      "2023-11-08 05:18:21 PM - [hazard_overlay.py:768] - root - INFO - Detected isolated locations, checking for hazard overlay.\n",
      "2023-11-08 05:18:21 PM - [hazard_overlay.py:768] - root - INFO - Detected isolated locations, checking for hazard overlay.\n"
     ]
    },
    {
     "ename": "DataSourceError",
     "evalue": "C:\\repos\\ra2ce\\examples\\data\\direct_analysis\\static\\network: Permission denied",
     "output_type": "error",
     "traceback": [
      "\u001b[1;31m---------------------------------------------------------------------------\u001b[0m",
      "\u001b[1;31mCPLE_OpenFailedError\u001b[0m                      Traceback (most recent call last)",
      "File \u001b[1;32mc:\\repos\\ra2ce\\.env\\lib\\site-packages\\pyogrio\\_io.pyx:154\u001b[0m, in \u001b[0;36mpyogrio._io.ogr_open\u001b[1;34m()\u001b[0m\n",
      "File \u001b[1;32mc:\\repos\\ra2ce\\.env\\lib\\site-packages\\pyogrio\\_err.pyx:179\u001b[0m, in \u001b[0;36mpyogrio._err.exc_wrap_pointer\u001b[1;34m()\u001b[0m\n",
      "\u001b[1;31mCPLE_OpenFailedError\u001b[0m: C:\\repos\\ra2ce\\examples\\data\\direct_analysis\\static\\network: Permission denied",
      "\nDuring handling of the above exception, another exception occurred:\n",
      "\u001b[1;31mDataSourceError\u001b[0m                           Traceback (most recent call last)",
      "\u001b[1;32mc:\\repos\\ra2ce\\examples\\example_direct_damage.ipynb Cell 5\u001b[0m line \u001b[0;36m2\n\u001b[0;32m      <a href='vscode-notebook-cell:/c%3A/repos/ra2ce/examples/example_direct_damage.ipynb#W4sZmlsZQ%3D%3D?line=0'>1</a>\u001b[0m handler \u001b[39m=\u001b[39m Ra2ceHandler(network\u001b[39m=\u001b[39mnetwork_ini, analysis\u001b[39m=\u001b[39manalysis_ini)\n\u001b[1;32m----> <a href='vscode-notebook-cell:/c%3A/repos/ra2ce/examples/example_direct_damage.ipynb#W4sZmlsZQ%3D%3D?line=1'>2</a>\u001b[0m handler\u001b[39m.\u001b[39;49mconfigure()\n\u001b[0;32m      <a href='vscode-notebook-cell:/c%3A/repos/ra2ce/examples/example_direct_damage.ipynb#W4sZmlsZQ%3D%3D?line=2'>3</a>\u001b[0m handler\u001b[39m.\u001b[39mrun_analysis()\n",
      "File \u001b[1;32mC:\\repos\\ra2ce\\ra2ce\\ra2ce_handler.py:71\u001b[0m, in \u001b[0;36mRa2ceHandler.configure\u001b[1;34m(self)\u001b[0m\n\u001b[0;32m     70\u001b[0m \u001b[39mdef\u001b[39;00m \u001b[39mconfigure\u001b[39m(\u001b[39mself\u001b[39m) \u001b[39m-\u001b[39m\u001b[39m>\u001b[39m \u001b[39mNone\u001b[39;00m:\n\u001b[1;32m---> 71\u001b[0m     \u001b[39mself\u001b[39;49m\u001b[39m.\u001b[39;49minput_config\u001b[39m.\u001b[39;49mconfigure()\n",
      "File \u001b[1;32mC:\\repos\\ra2ce\\ra2ce\\configuration\\config_wrapper.py:79\u001b[0m, in \u001b[0;36mConfigWrapper.configure\u001b[1;34m(self)\u001b[0m\n\u001b[0;32m     77\u001b[0m \u001b[39mif\u001b[39;00m \u001b[39mself\u001b[39m\u001b[39m.\u001b[39mnetwork_config:\n\u001b[0;32m     78\u001b[0m     \u001b[39mself\u001b[39m\u001b[39m.\u001b[39mnetwork_config\u001b[39m.\u001b[39mconfigure_network()\n\u001b[1;32m---> 79\u001b[0m     \u001b[39mself\u001b[39;49m\u001b[39m.\u001b[39;49mnetwork_config\u001b[39m.\u001b[39;49mconfigure_hazard()\n\u001b[0;32m     80\u001b[0m \u001b[39mif\u001b[39;00m \u001b[39mself\u001b[39m\u001b[39m.\u001b[39manalysis_config:\n\u001b[0;32m     81\u001b[0m     \u001b[39mself\u001b[39m\u001b[39m.\u001b[39manalysis_config\u001b[39m.\u001b[39mconfigure()\n",
      "File \u001b[1;32mC:\\repos\\ra2ce\\ra2ce\\graph\\network_config_wrapper.py:170\u001b[0m, in \u001b[0;36mNetworkConfigWrapper.configure_hazard\u001b[1;34m(self)\u001b[0m\n\u001b[0;32m    168\u001b[0m \u001b[39m# There is a hazard map or multiple hazard maps that should be intersected with the graph.\u001b[39;00m\n\u001b[0;32m    169\u001b[0m hazard \u001b[39m=\u001b[39m HazardOverlay(\u001b[39mself\u001b[39m\u001b[39m.\u001b[39mconfig_data, \u001b[39mself\u001b[39m\u001b[39m.\u001b[39mgraphs, \u001b[39mself\u001b[39m\u001b[39m.\u001b[39mfiles)\n\u001b[1;32m--> 170\u001b[0m \u001b[39mself\u001b[39m\u001b[39m.\u001b[39mgraphs \u001b[39m=\u001b[39m hazard\u001b[39m.\u001b[39;49mcreate()\n",
      "File \u001b[1;32mC:\\repos\\ra2ce\\ra2ce\\graph\\hazard\\hazard_overlay.py:769\u001b[0m, in \u001b[0;36mHazardOverlay.create\u001b[1;34m(self)\u001b[0m\n\u001b[0;32m    767\u001b[0m \u001b[39mif\u001b[39;00m \u001b[39mself\u001b[39m\u001b[39m.\u001b[39m_isolation_locations:\n\u001b[0;32m    768\u001b[0m     logging\u001b[39m.\u001b[39minfo(\u001b[39m\"\u001b[39m\u001b[39mDetected isolated locations, checking for hazard overlay.\u001b[39m\u001b[39m\"\u001b[39m)\n\u001b[1;32m--> 769\u001b[0m     locations \u001b[39m=\u001b[39m gpd\u001b[39m.\u001b[39;49mread_file(\u001b[39mself\u001b[39;49m\u001b[39m.\u001b[39;49m_isolation_locations, engine\u001b[39m=\u001b[39;49m\u001b[39m\"\u001b[39;49m\u001b[39mpyogrio\u001b[39;49m\u001b[39m\"\u001b[39;49m)\n\u001b[0;32m    770\u001b[0m     locations[\u001b[39m\"\u001b[39m\u001b[39mi_id\u001b[39m\u001b[39m\"\u001b[39m] \u001b[39m=\u001b[39m locations\u001b[39m.\u001b[39mindex\n\u001b[0;32m    771\u001b[0m     locations_crs \u001b[39m=\u001b[39m pyproj\u001b[39m.\u001b[39mCRS\u001b[39m.\u001b[39mfrom_user_input(locations\u001b[39m.\u001b[39mcrs)\n",
      "File \u001b[1;32mc:\\repos\\ra2ce\\.env\\lib\\site-packages\\geopandas\\io\\file.py:287\u001b[0m, in \u001b[0;36m_read_file\u001b[1;34m(filename, bbox, mask, rows, engine, **kwargs)\u001b[0m\n\u001b[0;32m    284\u001b[0m             from_bytes \u001b[39m=\u001b[39m \u001b[39mTrue\u001b[39;00m\n\u001b[0;32m    286\u001b[0m \u001b[39mif\u001b[39;00m engine \u001b[39m==\u001b[39m \u001b[39m\"\u001b[39m\u001b[39mpyogrio\u001b[39m\u001b[39m\"\u001b[39m:\n\u001b[1;32m--> 287\u001b[0m     \u001b[39mreturn\u001b[39;00m _read_file_pyogrio(filename, bbox\u001b[39m=\u001b[39mbbox, mask\u001b[39m=\u001b[39mmask, rows\u001b[39m=\u001b[39mrows, \u001b[39m*\u001b[39m\u001b[39m*\u001b[39mkwargs)\n\u001b[0;32m    289\u001b[0m \u001b[39melif\u001b[39;00m engine \u001b[39m==\u001b[39m \u001b[39m\"\u001b[39m\u001b[39mfiona\u001b[39m\u001b[39m\"\u001b[39m:\n\u001b[0;32m    290\u001b[0m     \u001b[39mif\u001b[39;00m pd\u001b[39m.\u001b[39mapi\u001b[39m.\u001b[39mtypes\u001b[39m.\u001b[39mis_file_like(filename):\n",
      "File \u001b[1;32mc:\\repos\\ra2ce\\.env\\lib\\site-packages\\geopandas\\io\\file.py:443\u001b[0m, in \u001b[0;36m_read_file_pyogrio\u001b[1;34m(path_or_bytes, bbox, mask, rows, **kwargs)\u001b[0m\n\u001b[0;32m    440\u001b[0m     kwargs[\u001b[39m\"\u001b[39m\u001b[39mread_geometry\u001b[39m\u001b[39m\"\u001b[39m] \u001b[39m=\u001b[39m \u001b[39mFalse\u001b[39;00m\n\u001b[0;32m    442\u001b[0m \u001b[39m# TODO: if bbox is not None, check its CRS vs the CRS of the file\u001b[39;00m\n\u001b[1;32m--> 443\u001b[0m \u001b[39mreturn\u001b[39;00m pyogrio\u001b[39m.\u001b[39mread_dataframe(path_or_bytes, bbox\u001b[39m=\u001b[39mbbox, \u001b[39m*\u001b[39m\u001b[39m*\u001b[39mkwargs)\n",
      "File \u001b[1;32mc:\\repos\\ra2ce\\.env\\lib\\site-packages\\pyogrio\\geopandas.py:149\u001b[0m, in \u001b[0;36mread_dataframe\u001b[1;34m(path_or_buffer, layer, encoding, columns, read_geometry, force_2d, skip_features, max_features, where, bbox, fids, sql, sql_dialect, fid_as_index, use_arrow, **kwargs)\u001b[0m\n\u001b[0;32m    146\u001b[0m path_or_buffer \u001b[39m=\u001b[39m _stringify_path(path_or_buffer)\n\u001b[0;32m    148\u001b[0m read_func \u001b[39m=\u001b[39m read_arrow \u001b[39mif\u001b[39;00m use_arrow \u001b[39melse\u001b[39;00m read\n\u001b[1;32m--> 149\u001b[0m result \u001b[39m=\u001b[39m read_func(\n\u001b[0;32m    150\u001b[0m     path_or_buffer,\n\u001b[0;32m    151\u001b[0m     layer\u001b[39m=\u001b[39mlayer,\n\u001b[0;32m    152\u001b[0m     encoding\u001b[39m=\u001b[39mencoding,\n\u001b[0;32m    153\u001b[0m     columns\u001b[39m=\u001b[39mcolumns,\n\u001b[0;32m    154\u001b[0m     read_geometry\u001b[39m=\u001b[39mread_geometry,\n\u001b[0;32m    155\u001b[0m     force_2d\u001b[39m=\u001b[39mforce_2d,\n\u001b[0;32m    156\u001b[0m     skip_features\u001b[39m=\u001b[39mskip_features,\n\u001b[0;32m    157\u001b[0m     max_features\u001b[39m=\u001b[39mmax_features,\n\u001b[0;32m    158\u001b[0m     where\u001b[39m=\u001b[39mwhere,\n\u001b[0;32m    159\u001b[0m     bbox\u001b[39m=\u001b[39mbbox,\n\u001b[0;32m    160\u001b[0m     fids\u001b[39m=\u001b[39mfids,\n\u001b[0;32m    161\u001b[0m     sql\u001b[39m=\u001b[39msql,\n\u001b[0;32m    162\u001b[0m     sql_dialect\u001b[39m=\u001b[39msql_dialect,\n\u001b[0;32m    163\u001b[0m     return_fids\u001b[39m=\u001b[39mfid_as_index,\n\u001b[0;32m    164\u001b[0m     \u001b[39m*\u001b[39m\u001b[39m*\u001b[39mkwargs,\n\u001b[0;32m    165\u001b[0m )\n\u001b[0;32m    167\u001b[0m \u001b[39mif\u001b[39;00m use_arrow:\n\u001b[0;32m    168\u001b[0m     meta, table \u001b[39m=\u001b[39m result\n",
      "File \u001b[1;32mc:\\repos\\ra2ce\\.env\\lib\\site-packages\\pyogrio\\raw.py:137\u001b[0m, in \u001b[0;36mread\u001b[1;34m(path_or_buffer, layer, encoding, columns, read_geometry, force_2d, skip_features, max_features, where, bbox, fids, sql, sql_dialect, return_fids, **kwargs)\u001b[0m\n\u001b[0;32m    134\u001b[0m dataset_kwargs \u001b[39m=\u001b[39m _preprocess_options_key_value(kwargs) \u001b[39mif\u001b[39;00m kwargs \u001b[39melse\u001b[39;00m {}\n\u001b[0;32m    136\u001b[0m \u001b[39mtry\u001b[39;00m:\n\u001b[1;32m--> 137\u001b[0m     result \u001b[39m=\u001b[39m ogr_read(\n\u001b[0;32m    138\u001b[0m         path,\n\u001b[0;32m    139\u001b[0m         layer\u001b[39m=\u001b[39;49mlayer,\n\u001b[0;32m    140\u001b[0m         encoding\u001b[39m=\u001b[39;49mencoding,\n\u001b[0;32m    141\u001b[0m         columns\u001b[39m=\u001b[39;49mcolumns,\n\u001b[0;32m    142\u001b[0m         read_geometry\u001b[39m=\u001b[39;49mread_geometry,\n\u001b[0;32m    143\u001b[0m         force_2d\u001b[39m=\u001b[39;49mforce_2d,\n\u001b[0;32m    144\u001b[0m         skip_features\u001b[39m=\u001b[39;49mskip_features,\n\u001b[0;32m    145\u001b[0m         max_features\u001b[39m=\u001b[39;49mmax_features \u001b[39mor\u001b[39;49;00m \u001b[39m0\u001b[39;49m,\n\u001b[0;32m    146\u001b[0m         where\u001b[39m=\u001b[39;49mwhere,\n\u001b[0;32m    147\u001b[0m         bbox\u001b[39m=\u001b[39;49mbbox,\n\u001b[0;32m    148\u001b[0m         fids\u001b[39m=\u001b[39;49mfids,\n\u001b[0;32m    149\u001b[0m         sql\u001b[39m=\u001b[39;49msql,\n\u001b[0;32m    150\u001b[0m         sql_dialect\u001b[39m=\u001b[39;49msql_dialect,\n\u001b[0;32m    151\u001b[0m         return_fids\u001b[39m=\u001b[39;49mreturn_fids,\n\u001b[0;32m    152\u001b[0m         dataset_kwargs\u001b[39m=\u001b[39;49mdataset_kwargs,\n\u001b[0;32m    153\u001b[0m     )\n\u001b[0;32m    154\u001b[0m \u001b[39mfinally\u001b[39;00m:\n\u001b[0;32m    155\u001b[0m     \u001b[39mif\u001b[39;00m buffer \u001b[39mis\u001b[39;00m \u001b[39mnot\u001b[39;00m \u001b[39mNone\u001b[39;00m:\n",
      "File \u001b[1;32mc:\\repos\\ra2ce\\.env\\lib\\site-packages\\pyogrio\\_io.pyx:971\u001b[0m, in \u001b[0;36mpyogrio._io.ogr_read\u001b[1;34m()\u001b[0m\n",
      "File \u001b[1;32mc:\\repos\\ra2ce\\.env\\lib\\site-packages\\pyogrio\\_io.pyx:164\u001b[0m, in \u001b[0;36mpyogrio._io.ogr_open\u001b[1;34m()\u001b[0m\n",
      "\u001b[1;31mDataSourceError\u001b[0m: C:\\repos\\ra2ce\\examples\\data\\direct_analysis\\static\\network: Permission denied"
     ]
    }
   ],
   "source": [
    "handler = Ra2ceHandler(network=network_ini, analysis=analysis_ini)\n",
    "handler.configure()\n",
    "handler.run_analysis()"
   ]
  }
 ],
 "metadata": {
  "kernelspec": {
   "display_name": "ra2ce_env",
   "language": "python",
   "name": "python3"
  },
  "language_info": {
   "codemirror_mode": {
    "name": "ipython",
    "version": 3
   },
   "file_extension": ".py",
   "mimetype": "text/x-python",
   "name": "python",
   "nbconvert_exporter": "python",
   "pygments_lexer": "ipython3",
   "version": "3.10.13"
  }
 },
 "nbformat": 4,
 "nbformat_minor": 2
}

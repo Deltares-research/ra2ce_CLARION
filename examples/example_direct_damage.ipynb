{
 "cells": [
  {
   "cell_type": "markdown",
   "metadata": {},
   "source": [
    "# RA2CE feature: Direct analysis"
   ]
  },
  {
   "cell_type": "markdown",
   "metadata": {},
   "source": [
    "Three types of damage curves can be introduced to "
   ]
  },
  {
   "cell_type": "markdown",
   "metadata": {},
   "source": [
    "# The Huizinga damage functions"
   ]
  },
  {
   "cell_type": "code",
   "execution_count": 1,
   "metadata": {},
   "outputs": [],
   "source": [
    "import geopandas as gpd\n",
    "import matplotlib.pyplot as plt\n",
    "from pathlib import Path\n",
    "import pickle\n",
    "import rasterio"
   ]
  },
  {
   "cell_type": "code",
   "execution_count": 3,
   "metadata": {},
   "outputs": [],
   "source": [
    "from ra2ce.ra2ce_handler import Ra2ceHandler #import the ra2cehandler to run ra2ce analyses"
   ]
  },
  {
   "cell_type": "code",
   "execution_count": 4,
   "metadata": {},
   "outputs": [],
   "source": [
    "root_dir = Path(r'C:\\repos\\ra2ce\\examples\\data\\direct_analysis')"
   ]
  },
  {
   "cell_type": "code",
   "execution_count": 5,
   "metadata": {},
   "outputs": [],
   "source": [
    "_network_ini_name = \"network.ini\" #set the name for the network.ini\n",
    "_analysis_ini_name = \"analysis.ini\" #set the name for the analysis.ini\n",
    "\n",
    "network_ini = root_dir / _network_ini_name\n",
    "assert network_ini.is_file()\n",
    "\n",
    "analysis_ini = root_dir / _analysis_ini_name\n",
    "assert analysis_ini.is_file()"
   ]
  },
  {
   "cell_type": "code",
   "execution_count": 6,
   "metadata": {},
   "outputs": [
    {
     "name": "stderr",
     "output_type": "stream",
     "text": [
      "2023-11-17 03:16:12 PM - [ra2ce_logging.py:41] - root - INFO - RA2CE logger initialized.\n",
      "2023-11-17 03:16:12 PM - [network_config_wrapper.py:106] - root - INFO - Existing graph/network found: C:\\repos\\ra2ce\\examples\\data\\direct_analysis\\static\\output_graph\\base_graph.p.\n",
      "2023-11-17 03:16:12 PM - [network_config_wrapper.py:106] - root - INFO - Existing graph/network found: C:\\repos\\ra2ce\\examples\\data\\direct_analysis\\static\\output_graph\\base_network.feather.\n",
      "2023-11-17 03:16:12 PM - [network_config_wrapper.py:106] - root - INFO - Existing graph/network found: C:\\repos\\ra2ce\\examples\\data\\direct_analysis\\static\\output_graph\\base_graph_hazard.p.\n"
     ]
    },
    {
     "name": "stderr",
     "output_type": "stream",
     "text": [
      "Traceback (most recent call last):\n",
      "  File \"_pydevd_bundle/pydevd_cython.pyx\", line 577, in _pydevd_bundle.pydevd_cython.PyDBFrame._handle_exception\n",
      "  File \"_pydevd_bundle/pydevd_cython.pyx\", line 312, in _pydevd_bundle.pydevd_cython.PyDBFrame.do_wait_suspend\n",
      "  File \"c:\\repos\\ra2ce\\.env\\lib\\site-packages\\debugpy\\_vendored\\pydevd\\pydevd.py\", line 2070, in do_wait_suspend\n",
      "    keep_suspended = self._do_wait_suspend(thread, frame, event, arg, suspend_type, from_this_thread, frames_tracker)\n",
      "  File \"c:\\repos\\ra2ce\\.env\\lib\\site-packages\\debugpy\\_vendored\\pydevd\\pydevd.py\", line 2106, in _do_wait_suspend\n",
      "    time.sleep(0.01)\n",
      "KeyboardInterrupt\n",
      "2023-11-17 03:20:34 PM - [networks.py:183] - root - INFO - Apparently, you already did create a network with ra2ce earlier. Ra2ce will use this: C:\\repos\\ra2ce\\examples\\data\\direct_analysis\\static\\output_graph\\base_graph.p\n",
      "2023-11-17 03:20:34 PM - [hazard_overlay.py:101] - root - INFO - Initialized hazard object.\n",
      "2023-11-17 03:20:34 PM - [hazard_overlay.py:726] - root - INFO - Iterating overlay of GeoPandas Dataframe.\n",
      "2023-11-17 03:20:34 PM - [hazard_overlay.py:734] - root - WARNING - Hazard crs EPSG:32736 and gdf crs {\"$schema\": \"https://proj.org/schemas/v0.7/projjson.schema.json\", \"type\": \"GeographicCRS\", \"name\": \"WGS 84\", \"datum_ensemble\": {\"name\": \"World Geodetic System 1984 ensemble\", \"members\": [{\"name\": \"World Geodetic System 1984 (Transit)\"}, {\"name\": \"World Geodetic System 1984 (G730)\"}, {\"name\": \"World Geodetic System 1984 (G873)\"}, {\"name\": \"World Geodetic System 1984 (G1150)\"}, {\"name\": \"World Geodetic System 1984 (G1674)\"}, {\"name\": \"World Geodetic System 1984 (G1762)\"}, {\"name\": \"World Geodetic System 1984 (G2139)\"}], \"ellipsoid\": {\"name\": \"WGS 84\", \"semi_major_axis\": 6378137, \"inverse_flattening\": 298.257223563}, \"accuracy\": \"2.0\", \"id\": {\"authority\": \"EPSG\", \"code\": 6326}}, \"coordinate_system\": {\"subtype\": \"ellipsoidal\", \"axis\": [{\"name\": \"Geodetic latitude\", \"abbreviation\": \"Lat\", \"direction\": \"north\", \"unit\": \"degree\"}, {\"name\": \"Geodetic longitude\", \"abbreviation\": \"Lon\", \"direction\": \"east\", \"unit\": \"degree\"}]}, \"scope\": \"Horizontal component of 3D system.\", \"area\": \"World.\", \"bbox\": {\"south_latitude\": -90, \"west_longitude\": -180, \"north_latitude\": 90, \"east_longitude\": 180}, \"id\": {\"authority\": \"EPSG\", \"code\": 4326}} are inconsistent,\n",
      "                                                we try to reproject the gdf crs\n",
      "2023-11-17 03:20:34 PM - [hazard_overlay.py:741] - root - INFO - Gdf extent before reprojecting: [ 34.8306716 -19.8516179  34.9018585 -19.8146269]\n",
      "2023-11-17 03:20:34 PM - [hazard_overlay.py:744] - root - INFO - Gdf extent after reprojecting: [ 691720.11132456 7803842.2651083   699171.30276649 7807969.27363149]\n",
      "2023-11-17 03:20:34 PM - [hazard_intersect_builder_for_tif.py:181] - root - WARNING - Some geometries have NoneType objects (no coordinate information), namely: Empty GeoDataFrame\n",
      "Columns: [osmid, oneway, highway, reversed, length, rfid_c, rfid, name, maxspeed, lanes, ref, junction, bridge, geometry]\n",
      "Index: [].This could be due to segmentation, and might cause an exception in hazard overlay\n",
      "Network hazard overlay with max_flood_depth:  11%|█▏        | 1123/9932 [00:08<01:02, 141.07it/s]"
     ]
    }
   ],
   "source": [
    "handler = Ra2ceHandler(network=network_ini, analysis=analysis_ini)\n",
    "handler.configure()\n",
    "handler.run_analysis()"
   ]
  }
 ],
 "metadata": {
  "kernelspec": {
   "display_name": "ra2ce_env",
   "language": "python",
   "name": "python3"
  },
  "language_info": {
   "codemirror_mode": {
    "name": "ipython",
    "version": 3
   },
   "file_extension": ".py",
   "mimetype": "text/x-python",
   "name": "python",
   "nbconvert_exporter": "python",
   "pygments_lexer": "ipython3",
   "version": "3.10.13"
  }
 },
 "nbformat": 4,
 "nbformat_minor": 2
}

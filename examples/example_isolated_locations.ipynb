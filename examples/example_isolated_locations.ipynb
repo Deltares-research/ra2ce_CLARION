{
 "cells": [
  {
   "attachments": {},
   "cell_type": "markdown",
   "id": "e0bf8629",
   "metadata": {},
   "source": [
    "# RA2CE feature: Isolated locations\n",
    "**NOTE: TEXT WILL BE UPDATED**\n",
    "\n",
    "This notebook contains an example of the **isolated locations analysis** of the RA2CE model.\n",
    "\n",
    "First of all, we will import the packages we need to execute the notebook:"
   ]
  },
  {
   "cell_type": "code",
   "execution_count": 2,
   "id": "e67d001f",
   "metadata": {},
   "outputs": [
    {
     "name": "stderr",
     "output_type": "stream",
     "text": [
      "c:\\Users\\groen_fe\\.conda\\envs\\ra2ce_env\\lib\\site-packages\\geopandas\\_compat.py:112: UserWarning: The Shapely GEOS version (3.11.0-CAPI-1.17.0) is incompatible with the GEOS version PyGEOS was compiled with (3.10.4-CAPI-1.16.2). Conversions between both will be slow.\n",
      "  warnings.warn(\n",
      "c:\\Users\\groen_fe\\.conda\\envs\\ra2ce_env\\lib\\site-packages\\tqdm\\auto.py:21: TqdmWarning: IProgress not found. Please update jupyter and ipywidgets. See https://ipywidgets.readthedocs.io/en/stable/user_install.html\n",
      "  from .autonotebook import tqdm as notebook_tqdm\n"
     ]
    }
   ],
   "source": [
    "import geopandas as gpd\n",
    "import matplotlib.pyplot as plt\n",
    "from pathlib import Path\n",
    "from ra2ce.ra2ce_handler import Ra2ceHandler #import the ra2cehandler to run ra2ce analyses"
   ]
  },
  {
   "attachments": {},
   "cell_type": "markdown",
   "id": "0c5e8b7c",
   "metadata": {},
   "source": [
    "First, we will set the path to the ra2ce folder and we will initialize the names for the network and analysis ini files. Afterwards, let's find the examples data folder."
   ]
  },
  {
   "cell_type": "code",
   "execution_count": 3,
   "id": "0d6562dd",
   "metadata": {},
   "outputs": [],
   "source": [
    "root_dir = Path().parent / \"data\" / \"isolated_locations\"  # set the root directory for the data\n",
    "\n",
    "network_ini = root_dir / \"network.ini\"\n",
    "assert network_ini.is_file()\n",
    "\n",
    "analyses_ini = root_dir / \"analyses.ini\"\n",
    "assert analyses_ini.is_file()"
   ]
  },
  {
   "attachments": {},
   "cell_type": "markdown",
   "id": "363f0bdb",
   "metadata": {},
   "source": [
    "# Isolated locations analysis\n",
    "EXPLANATION"
   ]
  },
  {
   "attachments": {},
   "cell_type": "markdown",
   "id": "4d8e4999",
   "metadata": {},
   "source": [
    "**Network.ini content**\n",
    "<br>\n",
    "<br>\n",
    "> [project]<br>\n",
    "name = isolated_locations<br>\n",
    "<br>\n",
    "[network]<br>\n",
    "directed = False<br>\n",
    "source = OSM download<br>\n",
    "primary_file = None<br>\n",
    "diversion_file = None<br>\n",
    "file_id = None<br>\n",
    "polygon = map.geojson<br>\n",
    "network_type = drive<br>\n",
    "road_types = motorway,motorway_link,trunk,trunk_link,primary,primary_link,secondary,secondary_link,tertiary,tertiary_link<br>\n",
    "save_shp = False<br>\n",
    "<br>\n",
    "[origins_destinations]<br>\n",
    "origins = None<br>\n",
    "destinations = None<br>\n",
    "origins_names = None<br>\n",
    "destinations_names = None<br>\n",
    "id_name_origin_destination = None<br>\n",
    "origin_count = None<br>                         \n",
    "origin_out_fraction = 1<br>\n",
    "category = category<br>\n",
    "<br>\n",
    "[hazard]<br>\n",
    "**hazard_map = max_flood_depth.tif**<br>\n",
    "hazard_id = None<br>\n",
    "hazard_field_name = waterdepth<br>\n",
    "**aggregate_wl = max**<br>\n",
    "**hazard_crs = EPSG:32736**<br>\n",
    "<br>\n",
    "*[cleanup]  # Can only be used if a network is created from a shapefile<br>\n",
    "snapping_threshold = None<br>\n",
    "segmentation_length = None<br>\n",
    "merge_lines = False<br>\n",
    "merge_on_id = False<br>\n",
    "cut_at_intersections = False<br>*"
   ]
  },
  {
   "cell_type": "markdown",
   "id": "c02f18fa",
   "metadata": {},
   "source": [
    "Configure the network"
   ]
  },
  {
   "cell_type": "code",
   "execution_count": 4,
   "id": "9dd1e91b",
   "metadata": {},
   "outputs": [
    {
     "name": "stderr",
     "output_type": "stream",
     "text": [
      "2023-09-22 05:14:39 PM - [ra2ce_logging.py:41] - root - INFO - RA2CE logger initialized.\n",
      "2023-09-22 05:14:39 PM - [network_config_wrapper.py:106] - root - INFO - Existing graph/network found: data\\isolated_locations\\static\\output_graph\\base_graph.p.\n",
      "2023-09-22 05:14:39 PM - [network_config_wrapper.py:106] - root - INFO - Existing graph/network found: data\\isolated_locations\\static\\output_graph\\base_network.feather.\n",
      "2023-09-22 05:14:39 PM - [network_config_wrapper.py:106] - root - INFO - Existing graph/network found: data\\isolated_locations\\static\\output_graph\\base_graph_hazard.p.\n",
      "2023-09-22 05:14:39 PM - [networks.py:183] - root - INFO - Apparently, you already did create a network with ra2ce earlier. Ra2ce will use this: data\\isolated_locations\\static\\output_graph\\base_graph.p\n",
      "2023-09-22 05:14:39 PM - [hazard.py:89] - root - INFO - Initialized hazard object.\n",
      "2023-09-22 05:14:39 PM - [hazard.py:995] - root - INFO - Iterating overlay of GeoPandas Dataframe.\n",
      "2023-09-22 05:14:39 PM - [hazard.py:1003] - root - WARNING - Hazard crs EPSG:32736 and gdf crs {\"$schema\": \"https://proj.org/schemas/v0.7/projjson.schema.json\", \"type\": \"GeographicCRS\", \"name\": \"WGS 84\", \"datum_ensemble\": {\"name\": \"World Geodetic System 1984 ensemble\", \"members\": [{\"name\": \"World Geodetic System 1984 (Transit)\"}, {\"name\": \"World Geodetic System 1984 (G730)\"}, {\"name\": \"World Geodetic System 1984 (G873)\"}, {\"name\": \"World Geodetic System 1984 (G1150)\"}, {\"name\": \"World Geodetic System 1984 (G1674)\"}, {\"name\": \"World Geodetic System 1984 (G1762)\"}, {\"name\": \"World Geodetic System 1984 (G2139)\"}], \"ellipsoid\": {\"name\": \"WGS 84\", \"semi_major_axis\": 6378137, \"inverse_flattening\": 298.257223563}, \"accuracy\": \"2.0\", \"id\": {\"authority\": \"EPSG\", \"code\": 6326}}, \"coordinate_system\": {\"subtype\": \"ellipsoidal\", \"axis\": [{\"name\": \"Geodetic latitude\", \"abbreviation\": \"Lat\", \"direction\": \"north\", \"unit\": \"degree\"}, {\"name\": \"Geodetic longitude\", \"abbreviation\": \"Lon\", \"direction\": \"east\", \"unit\": \"degree\"}]}, \"scope\": \"Horizontal component of 3D system.\", \"area\": \"World.\", \"bbox\": {\"south_latitude\": -90, \"west_longitude\": -180, \"north_latitude\": 90, \"east_longitude\": 180}, \"id\": {\"authority\": \"EPSG\", \"code\": 4326}} are inconsistent,\n",
      "                                                we try to reproject the gdf crs\n",
      "2023-09-22 05:14:39 PM - [hazard.py:1010] - root - INFO - Gdf extent before reprojecting: [ 34.8365989 -19.8513266  34.8999908 -19.815476 ]\n",
      "2023-09-22 05:14:39 PM - [hazard.py:1013] - root - INFO - Gdf extent after reprojecting: [ 692352.37759429 7803880.05864191  698980.01684387 7807872.06701458]\n",
      "2023-09-22 05:14:39 PM - [hazard.py:109] - root - WARNING - Some geometries have NoneType objects (no coordinate information), namely: Empty GeoDataFrame\n",
      "Columns: [osmid, oneway, highway, length, rfid_c, rfid, name, maxspeed, lanes, ref, junction, bridge, geometry, u, v, key]\n",
      "Index: [].This could be due to segmentation, and might cause an exception in hazard overlay\n",
      "Network hazard overlay with max_flood_depth: 100%|██████████| 1208/1208 [00:06<00:00, 188.95it/s]\n",
      "Network fraction with hazard overlay with max_flood_depth: 100%|██████████| 1208/1208 [00:07<00:00, 158.32it/s]\n",
      "2023-09-22 05:14:53 PM - [hazard.py:660] - root - INFO - Hazard raster intersect time: 14.05s\n",
      "2023-09-22 05:14:53 PM - [hazard.py:1039] - root - INFO - Detected isolated locations, checking for hazard overlay.\n",
      "2023-09-22 05:14:53 PM - [hazard.py:1046] - root - INFO - Get hazard at locations from network.\n",
      "2023-09-22 05:14:53 PM - [geodataframe_network_exporter.py:42] - root - INFO - Saved locations_hazard in data\\isolated_locations\\static\\output_graph.\n"
     ]
    }
   ],
   "source": [
    "handler = Ra2ceHandler(network=network_ini, analysis=analyses_ini)\n",
    "handler.configure()"
   ]
  },
  {
   "cell_type": "markdown",
   "id": "3f1e2c70",
   "metadata": {},
   "source": [
    "**Analyses.ini content**\n",
    "<br>\n",
    "<br>\n",
    "> [project]<br>\n",
    "name = isolated_locations<br>\n",
    "<br>\n",
    "[analysis1]<br>\n",
    "name = multilink isolated locations<br>\n",
    "analysis = multi_link_isolated_locations<br>\n",
    "aggregate_wl = max<br>\n",
    "threshold = 1<br>\n",
    "weighing = length<br>\n",
    "category_field_name = category<br>\n",
    "save_shp = True<br>\n",
    "save_csv = True<br>"
   ]
  },
  {
   "cell_type": "code",
   "execution_count": 13,
   "id": "a18f0f2a",
   "metadata": {},
   "outputs": [
    {
     "name": "stderr",
     "output_type": "stream",
     "text": [
      "2023-09-22 05:25:41 PM - [analyses_indirect.py:1005] - root - INFO - ----------------------------- Started analyzing 'multilink isolated locations'  -----------------------------\n"
     ]
    }
   ],
   "source": [
    "handler.run_analysis()"
   ]
  }
 ],
 "metadata": {
  "kernelspec": {
   "display_name": "Python 3 (ipykernel)",
   "language": "python",
   "name": "python3"
  },
  "language_info": {
   "codemirror_mode": {
    "name": "ipython",
    "version": 3
   },
   "file_extension": ".py",
   "mimetype": "text/x-python",
   "name": "python",
   "nbconvert_exporter": "python",
   "pygments_lexer": "ipython3",
   "version": "3.10.12"
  }
 },
 "nbformat": 4,
 "nbformat_minor": 5
}

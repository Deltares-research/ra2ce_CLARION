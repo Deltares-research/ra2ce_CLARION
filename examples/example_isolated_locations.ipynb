{
 "cells": [
  {
   "attachments": {},
   "cell_type": "markdown",
   "id": "e0bf8629",
   "metadata": {},
   "source": [
    "# RA2CE feature: Isolated locations\n",
    "\n",
    "This notebook contains an example of the **isolated locations analysis** of the RA2CE model. This analysis can be used to assess whether locations can still reach the main part of a network during a disruption. RA2CE specifies the reason of isolation: whether the location is isolated because of link disruption close to the location or because of link disruptions in other locations further away. For example, a residential home could be disrupted in using the road network because of high water on the road right in front of the house or because they cannot leave their neighbourhood because of road flooding.\n",
    "\n",
    "First of all, we will import the packages we need to execute the notebook:"
   ]
  },
  {
   "cell_type": "code",
   "execution_count": 1,
   "id": "e67d001f",
   "metadata": {},
   "outputs": [
    {
     "ename": "ModuleNotFoundError",
     "evalue": "No module named 'ra2ce'",
     "output_type": "error",
     "traceback": [
      "\u001b[1;31m---------------------------------------------------------------------------\u001b[0m",
      "\u001b[1;31mModuleNotFoundError\u001b[0m                       Traceback (most recent call last)",
      "\u001b[1;32mc:\\Repositories\\ra2ce\\examples\\example_isolated_locations.ipynb Cell 2\u001b[0m line \u001b[0;36m4\n\u001b[0;32m      <a href='vscode-notebook-cell:/c%3A/Repositories/ra2ce/examples/example_isolated_locations.ipynb#W1sZmlsZQ%3D%3D?line=1'>2</a>\u001b[0m \u001b[39mimport\u001b[39;00m \u001b[39mmatplotlib\u001b[39;00m\u001b[39m.\u001b[39;00m\u001b[39mpyplot\u001b[39;00m \u001b[39mas\u001b[39;00m \u001b[39mplt\u001b[39;00m\n\u001b[0;32m      <a href='vscode-notebook-cell:/c%3A/Repositories/ra2ce/examples/example_isolated_locations.ipynb#W1sZmlsZQ%3D%3D?line=2'>3</a>\u001b[0m \u001b[39mfrom\u001b[39;00m \u001b[39mpathlib\u001b[39;00m \u001b[39mimport\u001b[39;00m Path\n\u001b[1;32m----> <a href='vscode-notebook-cell:/c%3A/Repositories/ra2ce/examples/example_isolated_locations.ipynb#W1sZmlsZQ%3D%3D?line=3'>4</a>\u001b[0m \u001b[39mfrom\u001b[39;00m \u001b[39mra2ce\u001b[39;00m\u001b[39m.\u001b[39;00m\u001b[39mra2ce_handler\u001b[39;00m \u001b[39mimport\u001b[39;00m Ra2ceHandler \u001b[39m#import the ra2cehandler to run ra2ce analyses\u001b[39;00m\n",
      "\u001b[1;31mModuleNotFoundError\u001b[0m: No module named 'ra2ce'"
     ]
    }
   ],
   "source": [
    "import geopandas as gpd\n",
    "import matplotlib.pyplot as plt\n",
    "from pathlib import Path\n",
    "from ra2ce.ra2ce_handler import Ra2ceHandler #import the ra2cehandler to run ra2ce analyses"
   ]
  },
  {
   "attachments": {},
   "cell_type": "markdown",
   "id": "0c5e8b7c",
   "metadata": {},
   "source": [
    "First, we will set the path to the ra2ce folder and we will initialize the names for the network and analysis ini files. Afterwards, let's find the examples data folder."
   ]
  },
  {
   "cell_type": "code",
   "execution_count": null,
   "id": "0d6562dd",
   "metadata": {},
   "outputs": [
    {
     "ename": "",
     "evalue": "",
     "output_type": "error",
     "traceback": [
      "\u001b[1;31mnotebook controller is DISPOSED. \n",
      "\u001b[1;31mView Jupyter <a href='command:jupyter.viewOutput'>log</a> for further details."
     ]
    }
   ],
   "source": [
    "root_dir = Path().parent / \"data\" / \"isolated_locations\"  # set the root directory for the data\n",
    "\n",
    "network_ini = root_dir / \"network.ini\"\n",
    "assert network_ini.is_file()\n",
    "\n",
    "analyses_ini = root_dir / \"analyses.ini\"\n",
    "assert analyses_ini.is_file()"
   ]
  },
  {
   "attachments": {},
   "cell_type": "markdown",
   "id": "363f0bdb",
   "metadata": {},
   "source": [
    "# Isolated locations analysis\n",
    "EXPLANATION"
   ]
  },
  {
   "attachments": {},
   "cell_type": "markdown",
   "id": "4d8e4999",
   "metadata": {},
   "source": [
    "**Network.ini content**\n",
    "<br>\n",
    "<br>\n",
    "> [project]<br>\n",
    "name = isolated_locations<br>\n",
    "<br>\n",
    "[network]<br>\n",
    "directed = False<br>\n",
    "source = OSM download<br>\n",
    "primary_file = None<br>\n",
    "diversion_file = None<br>\n",
    "file_id = None<br>\n",
    "polygon = map.geojson<br>\n",
    "network_type = drive<br>\n",
    "road_types = motorway,motorway_link,trunk,trunk_link,primary,primary_link,secondary,secondary_link,tertiary,tertiary_link<br>\n",
    "save_shp = False<br>\n",
    "<br>\n",
    "[origins_destinations]<br>\n",
    "origins = None<br>\n",
    "destinations = None<br>\n",
    "origins_names = None<br>\n",
    "destinations_names = None<br>\n",
    "id_name_origin_destination = None<br>\n",
    "origin_count = None<br>                         \n",
    "origin_out_fraction = 1<br>\n",
    "category = category<br>\n",
    "<br>\n",
    "[hazard]<br>\n",
    "**hazard_map = max_flood_depth.tif**<br>\n",
    "hazard_id = None<br>\n",
    "hazard_field_name = waterdepth<br>\n",
    "**aggregate_wl = max**<br>\n",
    "**hazard_crs = EPSG:32736**<br>\n",
    "<br>\n",
    "*[cleanup]  # Can only be used if a network is created from a shapefile<br>\n",
    "snapping_threshold = None<br>\n",
    "segmentation_length = None<br>\n",
    "merge_lines = False<br>\n",
    "merge_on_id = False<br>\n",
    "cut_at_intersections = False<br>*"
   ]
  },
  {
   "cell_type": "markdown",
   "id": "c02f18fa",
   "metadata": {},
   "source": [
    "Configure the network"
   ]
  },
  {
   "cell_type": "code",
   "execution_count": 2,
   "id": "9dd1e91b",
   "metadata": {},
   "outputs": [
    {
     "ename": "NameError",
     "evalue": "name 'Ra2ceHandler' is not defined",
     "output_type": "error",
     "traceback": [
      "\u001b[1;31m---------------------------------------------------------------------------\u001b[0m",
      "\u001b[1;31mNameError\u001b[0m                                 Traceback (most recent call last)",
      "\u001b[1;32mc:\\Repositories\\ra2ce\\examples\\example_isolated_locations.ipynb Cell 8\u001b[0m line \u001b[0;36m1\n\u001b[1;32m----> <a href='vscode-notebook-cell:/c%3A/Repositories/ra2ce/examples/example_isolated_locations.ipynb#X10sZmlsZQ%3D%3D?line=0'>1</a>\u001b[0m handler \u001b[39m=\u001b[39m Ra2ceHandler(network\u001b[39m=\u001b[39mnetwork_ini, analysis\u001b[39m=\u001b[39manalyses_ini)\n\u001b[0;32m      <a href='vscode-notebook-cell:/c%3A/Repositories/ra2ce/examples/example_isolated_locations.ipynb#X10sZmlsZQ%3D%3D?line=1'>2</a>\u001b[0m handler\u001b[39m.\u001b[39mconfigure()\n",
      "\u001b[1;31mNameError\u001b[0m: name 'Ra2ceHandler' is not defined"
     ]
    }
   ],
   "source": [
    "handler = Ra2ceHandler(network=network_ini, analysis=analyses_ini)\n",
    "handler.configure()"
   ]
  },
  {
   "cell_type": "markdown",
   "metadata": {},
   "source": [
    "Now you can see the output"
   ]
  },
  {
   "cell_type": "code",
   "execution_count": 8,
   "metadata": {},
   "outputs": [
    {
     "ename": "ImportError",
     "evalue": "The 'folium', 'matplotlib' and 'mapclassify' packages are required for 'explore()'. You can install them using 'conda install -c conda-forge folium matplotlib mapclassify' or 'pip install folium matplotlib mapclassify'.",
     "output_type": "error",
     "traceback": [
      "\u001b[1;31m---------------------------------------------------------------------------\u001b[0m",
      "\u001b[1;31mModuleNotFoundError\u001b[0m                       Traceback (most recent call last)",
      "File \u001b[1;32mc:\\Users\\groen_fe\\.conda\\envs\\ra2ce_env\\lib\\site-packages\\geopandas\\explore.py:281\u001b[0m, in \u001b[0;36m_explore\u001b[1;34m(df, column, cmap, color, m, tiles, attr, tooltip, popup, highlight, categorical, legend, scheme, k, vmin, vmax, width, height, categories, classification_kwds, control_scale, marker_type, marker_kwds, style_kwds, highlight_kwds, missing_kwds, tooltip_kwds, popup_kwds, legend_kwds, map_kwds, **kwargs)\u001b[0m\n\u001b[0;32m    280\u001b[0m \u001b[39mtry\u001b[39;00m:\n\u001b[1;32m--> 281\u001b[0m     \u001b[39mimport\u001b[39;00m \u001b[39mbranca\u001b[39;00m \u001b[39mas\u001b[39;00m \u001b[39mbc\u001b[39;00m\n\u001b[0;32m    282\u001b[0m     \u001b[39mimport\u001b[39;00m \u001b[39mfolium\u001b[39;00m\n",
      "\u001b[1;31mModuleNotFoundError\u001b[0m: No module named 'branca'",
      "\nDuring handling of the above exception, another exception occurred:\n",
      "\u001b[1;31mImportError\u001b[0m                               Traceback (most recent call last)",
      "\u001b[1;32mc:\\Repositories\\ra2ce\\examples\\example_isolated_locations.ipynb Cell 10\u001b[0m line \u001b[0;36m3\n\u001b[0;32m      <a href='vscode-notebook-cell:/c%3A/Repositories/ra2ce/examples/example_isolated_locations.ipynb#X14sZmlsZQ%3D%3D?line=0'>1</a>\u001b[0m network_with_hazard \u001b[39m=\u001b[39m root_dir \u001b[39m/\u001b[39m \u001b[39m\"\u001b[39m\u001b[39mstatic\u001b[39m\u001b[39m\"\u001b[39m \u001b[39m/\u001b[39m \u001b[39m\"\u001b[39m\u001b[39moutput_graph\u001b[39m\u001b[39m\"\u001b[39m \u001b[39m/\u001b[39m \u001b[39m\"\u001b[39m\u001b[39mbase_graph_hazard_edges.gpkg\u001b[39m\u001b[39m\"\u001b[39m\n\u001b[0;32m      <a href='vscode-notebook-cell:/c%3A/Repositories/ra2ce/examples/example_isolated_locations.ipynb#X14sZmlsZQ%3D%3D?line=1'>2</a>\u001b[0m edges \u001b[39m=\u001b[39m gpd\u001b[39m.\u001b[39mread_file(network_with_hazard)\n\u001b[1;32m----> <a href='vscode-notebook-cell:/c%3A/Repositories/ra2ce/examples/example_isolated_locations.ipynb#X14sZmlsZQ%3D%3D?line=2'>3</a>\u001b[0m edges\u001b[39m.\u001b[39;49mexplore()\n",
      "File \u001b[1;32mc:\\Users\\groen_fe\\.conda\\envs\\ra2ce_env\\lib\\site-packages\\geopandas\\geodataframe.py:2113\u001b[0m, in \u001b[0;36mGeoDataFrame.explore\u001b[1;34m(self, *args, **kwargs)\u001b[0m\n\u001b[0;32m   2111\u001b[0m \u001b[39m@doc\u001b[39m(_explore)\n\u001b[0;32m   2112\u001b[0m \u001b[39mdef\u001b[39;00m \u001b[39mexplore\u001b[39m(\u001b[39mself\u001b[39m, \u001b[39m*\u001b[39margs, \u001b[39m*\u001b[39m\u001b[39m*\u001b[39mkwargs):\n\u001b[1;32m-> 2113\u001b[0m     \u001b[39mreturn\u001b[39;00m _explore(\u001b[39mself\u001b[39m, \u001b[39m*\u001b[39margs, \u001b[39m*\u001b[39m\u001b[39m*\u001b[39mkwargs)\n",
      "File \u001b[1;32mc:\\Users\\groen_fe\\.conda\\envs\\ra2ce_env\\lib\\site-packages\\geopandas\\explore.py:297\u001b[0m, in \u001b[0;36m_explore\u001b[1;34m(df, column, cmap, color, m, tiles, attr, tooltip, popup, highlight, categorical, legend, scheme, k, vmin, vmax, width, height, categories, classification_kwds, control_scale, marker_type, marker_kwds, style_kwds, highlight_kwds, missing_kwds, tooltip_kwds, popup_kwds, legend_kwds, map_kwds, **kwargs)\u001b[0m\n\u001b[0;32m    294\u001b[0m         \u001b[39mfrom\u001b[39;00m \u001b[39mmatplotlib\u001b[39;00m \u001b[39mimport\u001b[39;00m cm\n\u001b[0;32m    296\u001b[0m \u001b[39mexcept\u001b[39;00m (\u001b[39mImportError\u001b[39;00m, \u001b[39mModuleNotFoundError\u001b[39;00m):\n\u001b[1;32m--> 297\u001b[0m     \u001b[39mraise\u001b[39;00m \u001b[39mImportError\u001b[39;00m(\n\u001b[0;32m    298\u001b[0m         \u001b[39m\"\u001b[39m\u001b[39mThe \u001b[39m\u001b[39m'\u001b[39m\u001b[39mfolium\u001b[39m\u001b[39m'\u001b[39m\u001b[39m, \u001b[39m\u001b[39m'\u001b[39m\u001b[39mmatplotlib\u001b[39m\u001b[39m'\u001b[39m\u001b[39m and \u001b[39m\u001b[39m'\u001b[39m\u001b[39mmapclassify\u001b[39m\u001b[39m'\u001b[39m\u001b[39m packages are required for \u001b[39m\u001b[39m\"\u001b[39m\n\u001b[0;32m    299\u001b[0m         \u001b[39m\"\u001b[39m\u001b[39m'\u001b[39m\u001b[39mexplore()\u001b[39m\u001b[39m'\u001b[39m\u001b[39m. You can install them using \u001b[39m\u001b[39m\"\u001b[39m\n\u001b[0;32m    300\u001b[0m         \u001b[39m\"\u001b[39m\u001b[39m'\u001b[39m\u001b[39mconda install -c conda-forge folium matplotlib mapclassify\u001b[39m\u001b[39m'\u001b[39m\u001b[39m \u001b[39m\u001b[39m\"\u001b[39m\n\u001b[0;32m    301\u001b[0m         \u001b[39m\"\u001b[39m\u001b[39mor \u001b[39m\u001b[39m'\u001b[39m\u001b[39mpip install folium matplotlib mapclassify\u001b[39m\u001b[39m'\u001b[39m\u001b[39m.\u001b[39m\u001b[39m\"\u001b[39m\n\u001b[0;32m    302\u001b[0m     )\n\u001b[0;32m    304\u001b[0m \u001b[39m# xyservices is an optional dependency\u001b[39;00m\n\u001b[0;32m    305\u001b[0m \u001b[39mtry\u001b[39;00m:\n",
      "\u001b[1;31mImportError\u001b[0m: The 'folium', 'matplotlib' and 'mapclassify' packages are required for 'explore()'. You can install them using 'conda install -c conda-forge folium matplotlib mapclassify' or 'pip install folium matplotlib mapclassify'."
     ]
    }
   ],
   "source": [
    "network_with_hazard = root_dir / \"static\" / \"output_graph\" / \"base_graph_hazard_edges.gpkg\"\n",
    "edges = gpd.read_file(network_with_hazard)\n",
    "edges.explore()"
   ]
  },
  {
   "cell_type": "markdown",
   "id": "3f1e2c70",
   "metadata": {},
   "source": [
    "**Analyses.ini content**\n",
    "<br>\n",
    "<br>\n",
    "> [project]<br>\n",
    "name = isolated_locations<br>\n",
    "<br>\n",
    "[analysis1]<br>\n",
    "name = multilink isolated locations<br>\n",
    "analysis = multi_link_isolated_locations<br>\n",
    "aggregate_wl = max<br>\n",
    "threshold = 1<br>\n",
    "weighing = length<br>\n",
    "category_field_name = category<br>\n",
    "save_shp = True<br>\n",
    "save_csv = True<br>"
   ]
  },
  {
   "cell_type": "code",
   "execution_count": 5,
   "id": "a18f0f2a",
   "metadata": {},
   "outputs": [
    {
     "name": "stderr",
     "output_type": "stream",
     "text": [
      "2023-11-08 11:54:17 AM - [analyses_indirect.py:1024] - root - INFO - ----------------------------- Started analyzing 'multilink isolated locations'  -----------------------------\n",
      "2023-11-08 11:54:17 AM - [analyses_indirect.py:1024] - root - INFO - ----------------------------- Started analyzing 'multilink isolated locations'  -----------------------------\n",
      "C:\\Repositories\\ra2ce\\ra2ce\\common\\io\\readers\\graph_pickle_reader.py:43: UserWarning: Unpickling a shapely <2.0 geometry object. Please save the pickle again; shapely 2.1 will not have this compatibility.\n",
      "  _read_graph = pickle.load(f)\n"
     ]
    },
    {
     "ename": "ValueError",
     "evalue": "graph contains no edges",
     "output_type": "error",
     "traceback": [
      "\u001b[1;31m---------------------------------------------------------------------------\u001b[0m",
      "\u001b[1;31mValueError\u001b[0m                                Traceback (most recent call last)",
      "\u001b[1;32mc:\\Repositories\\ra2ce\\examples\\example_isolated_locations.ipynb Cell 10\u001b[0m line \u001b[0;36m1\n\u001b[1;32m----> <a href='vscode-notebook-cell:/c%3A/Repositories/ra2ce/examples/example_isolated_locations.ipynb#X12sZmlsZQ%3D%3D?line=0'>1</a>\u001b[0m handler\u001b[39m.\u001b[39;49mrun_analysis()\n",
      "File \u001b[1;32mC:\\Repositories\\ra2ce\\ra2ce\\ra2ce_handler.py:83\u001b[0m, in \u001b[0;36mRa2ceHandler.run_analysis\u001b[1;34m(self)\u001b[0m\n\u001b[0;32m     80\u001b[0m     \u001b[39mraise\u001b[39;00m \u001b[39mValueError\u001b[39;00m(_error)\n\u001b[0;32m     82\u001b[0m _runner \u001b[39m=\u001b[39m AnalysisRunnerFactory\u001b[39m.\u001b[39mget_runner(\u001b[39mself\u001b[39m\u001b[39m.\u001b[39minput_config)\n\u001b[1;32m---> 83\u001b[0m _runner\u001b[39m.\u001b[39;49mrun(\u001b[39mself\u001b[39;49m\u001b[39m.\u001b[39;49minput_config\u001b[39m.\u001b[39;49manalysis_config)\n",
      "File \u001b[1;32mC:\\Repositories\\ra2ce\\ra2ce\\runners\\indirect_analysis_runner.py:45\u001b[0m, in \u001b[0;36mIndirectAnalysisRunner.run\u001b[1;34m(self, analysis_config)\u001b[0m\n\u001b[0;32m     42\u001b[0m \u001b[39mdef\u001b[39;00m \u001b[39mrun\u001b[39m(\u001b[39mself\u001b[39m, analysis_config: AnalysisConfigWrapperBase) \u001b[39m-\u001b[39m\u001b[39m>\u001b[39m \u001b[39mNone\u001b[39;00m:\n\u001b[0;32m     43\u001b[0m     analyses_indirect\u001b[39m.\u001b[39;49mIndirectAnalyses(\n\u001b[0;32m     44\u001b[0m         analysis_config\u001b[39m.\u001b[39;49mconfig_data, analysis_config\u001b[39m.\u001b[39;49mgraphs\n\u001b[1;32m---> 45\u001b[0m     )\u001b[39m.\u001b[39;49mexecute()\n",
      "File \u001b[1;32mC:\\Repositories\\ra2ce\\ra2ce\\analyses\\indirect\\analyses_indirect.py:1269\u001b[0m, in \u001b[0;36mIndirectAnalyses.execute\u001b[1;34m(self)\u001b[0m\n\u001b[0;32m   1267\u001b[0m \u001b[39melif\u001b[39;00m analysis[\u001b[39m\"\u001b[39m\u001b[39manalysis\u001b[39m\u001b[39m\"\u001b[39m] \u001b[39m==\u001b[39m \u001b[39m\"\u001b[39m\u001b[39mmulti_link_isolated_locations\u001b[39m\u001b[39m\"\u001b[39m:\n\u001b[0;32m   1268\u001b[0m     g \u001b[39m=\u001b[39m _pickle_reader\u001b[39m.\u001b[39mread(\u001b[39mself\u001b[39m\u001b[39m.\u001b[39mconfig[\u001b[39m\"\u001b[39m\u001b[39mfiles\u001b[39m\u001b[39m\"\u001b[39m][\u001b[39m\"\u001b[39m\u001b[39mbase_graph_hazard\u001b[39m\u001b[39m\"\u001b[39m])\n\u001b[1;32m-> 1269\u001b[0m     gdf, df \u001b[39m=\u001b[39m \u001b[39mself\u001b[39;49m\u001b[39m.\u001b[39;49mmulti_link_isolated_locations(g, analysis)\n\u001b[0;32m   1271\u001b[0m     df_path \u001b[39m=\u001b[39m output_path \u001b[39m/\u001b[39m (\n\u001b[0;32m   1272\u001b[0m             analysis[\u001b[39m\"\u001b[39m\u001b[39mname\u001b[39m\u001b[39m\"\u001b[39m]\u001b[39m.\u001b[39mreplace(\u001b[39m\"\u001b[39m\u001b[39m \u001b[39m\u001b[39m\"\u001b[39m, \u001b[39m\"\u001b[39m\u001b[39m_\u001b[39m\u001b[39m\"\u001b[39m) \u001b[39m+\u001b[39m \u001b[39m\"\u001b[39m\u001b[39m_results.csv\u001b[39m\u001b[39m\"\u001b[39m\n\u001b[0;32m   1273\u001b[0m     )\n\u001b[0;32m   1274\u001b[0m     df\u001b[39m.\u001b[39mto_csv(df_path, index\u001b[39m=\u001b[39m\u001b[39mFalse\u001b[39;00m)\n",
      "File \u001b[1;32mC:\\Repositories\\ra2ce\\ra2ce\\analyses\\indirect\\analyses_indirect.py:891\u001b[0m, in \u001b[0;36mIndirectAnalyses.multi_link_isolated_locations\u001b[1;34m(self, graph, analysis, crs)\u001b[0m\n\u001b[0;32m    888\u001b[0m graph_hz_direct\u001b[39m.\u001b[39mremove_edges_from(edges_hz_indirect)\n\u001b[0;32m    890\u001b[0m \u001b[39m# get isolated network\u001b[39;00m\n\u001b[1;32m--> 891\u001b[0m network_hz_indirect \u001b[39m=\u001b[39m \u001b[39mself\u001b[39;49m\u001b[39m.\u001b[39;49mget_network_with_edge_fid(graph_hz_indirect)\n\u001b[0;32m    892\u001b[0m network_hz_indirect[\u001b[39mf\u001b[39m\u001b[39m\"\u001b[39m\u001b[39mi_type_\u001b[39m\u001b[39m{\u001b[39;00mhazard_name[:\u001b[39m-\u001b[39m\u001b[39m3\u001b[39m]\u001b[39m}\u001b[39;00m\u001b[39m\"\u001b[39m] \u001b[39m=\u001b[39m \u001b[39m\"\u001b[39m\u001b[39misolated\u001b[39m\u001b[39m\"\u001b[39m\n\u001b[0;32m    893\u001b[0m \u001b[39m# reproject the datasets to be able to make a buffer in meters\u001b[39;00m\n",
      "File \u001b[1;32mC:\\Repositories\\ra2ce\\ra2ce\\analyses\\indirect\\analyses_indirect.py:982\u001b[0m, in \u001b[0;36mIndirectAnalyses.get_network_with_edge_fid\u001b[1;34m(self, graph)\u001b[0m\n\u001b[0;32m    971\u001b[0m \u001b[39mdef\u001b[39;00m \u001b[39mget_network_with_edge_fid\u001b[39m(\u001b[39mself\u001b[39m, graph: nx\u001b[39m.\u001b[39mGraph) \u001b[39m-\u001b[39m\u001b[39m>\u001b[39m gpd\u001b[39m.\u001b[39mGeoDataFrame:\n\u001b[0;32m    972\u001b[0m \u001b[39m    \u001b[39m\u001b[39m\"\"\"\u001b[39;00m\n\u001b[0;32m    973\u001b[0m \u001b[39m    This function converts a NetworkX graph into a GeoDataFrame representing the network.\u001b[39;00m\n\u001b[0;32m    974\u001b[0m \u001b[39m    It also constructs an 'edge_fid' column based on the 'node_A' and 'node_B' columns, following a specific convention.\u001b[39;00m\n\u001b[1;32m   (...)\u001b[0m\n\u001b[0;32m    980\u001b[0m \u001b[39m        gpd.GeoDataFrame: The resulting GeoDataFrame, with an added 'edge_fid' column.\u001b[39;00m\n\u001b[0;32m    981\u001b[0m \u001b[39m    \"\"\"\u001b[39;00m\n\u001b[1;32m--> 982\u001b[0m     network \u001b[39m=\u001b[39m graph_to_gdf(graph)[\u001b[39m0\u001b[39m]\n\u001b[0;32m    983\u001b[0m     \u001b[39m# TODO: add making \"edges_fid\" (internal convention) to graph_to_gdf\u001b[39;00m\n\u001b[0;32m    984\u001b[0m     \u001b[39mif\u001b[39;00m \u001b[39mall\u001b[39m(c_idx \u001b[39min\u001b[39;00m network\u001b[39m.\u001b[39mindex\u001b[39m.\u001b[39mnames \u001b[39mfor\u001b[39;00m c_idx \u001b[39min\u001b[39;00m [\u001b[39m\"\u001b[39m\u001b[39mu\u001b[39m\u001b[39m\"\u001b[39m, \u001b[39m\"\u001b[39m\u001b[39mv\u001b[39m\u001b[39m\"\u001b[39m]):\n",
      "File \u001b[1;32mC:\\Repositories\\ra2ce\\ra2ce\\graph\\networks_utils.py:1179\u001b[0m, in \u001b[0;36mgraph_to_gdf\u001b[1;34m(graph_to_convert, save_nodes, save_edges, to_save)\u001b[0m\n\u001b[0;32m   1176\u001b[0m                     df[col] \u001b[39m=\u001b[39m df[col]\u001b[39m.\u001b[39mastype(\u001b[39mstr\u001b[39m)\n\u001b[0;32m   1178\u001b[0m \u001b[39melif\u001b[39;00m \u001b[39mnot\u001b[39;00m save_nodes \u001b[39mand\u001b[39;00m save_edges:\n\u001b[1;32m-> 1179\u001b[0m     edges \u001b[39m=\u001b[39m graph_to_gdfs(graph_to_convert, nodes\u001b[39m=\u001b[39;49msave_nodes, edges\u001b[39m=\u001b[39;49msave_edges)\n\u001b[0;32m   1180\u001b[0m \u001b[39melif\u001b[39;00m save_nodes \u001b[39mand\u001b[39;00m \u001b[39mnot\u001b[39;00m save_edges:\n\u001b[0;32m   1181\u001b[0m     nodes \u001b[39m=\u001b[39m graph_to_gdfs(graph_to_convert, nodes\u001b[39m=\u001b[39msave_nodes, edges\u001b[39m=\u001b[39msave_edges)\n",
      "File \u001b[1;32mc:\\Users\\groen_fe\\.conda\\envs\\ra2ce_env\\lib\\site-packages\\osmnx\\utils_graph.py:63\u001b[0m, in \u001b[0;36mgraph_to_gdfs\u001b[1;34m(G, nodes, edges, node_geometry, fill_edge_geometry)\u001b[0m\n\u001b[0;32m     61\u001b[0m \u001b[39mif\u001b[39;00m \u001b[39mnot\u001b[39;00m G\u001b[39m.\u001b[39medges:  \u001b[39m# pragma: no cover\u001b[39;00m\n\u001b[0;32m     62\u001b[0m     msg \u001b[39m=\u001b[39m \u001b[39m\"\u001b[39m\u001b[39mgraph contains no edges\u001b[39m\u001b[39m\"\u001b[39m\n\u001b[1;32m---> 63\u001b[0m     \u001b[39mraise\u001b[39;00m \u001b[39mValueError\u001b[39;00m(msg)\n\u001b[0;32m     65\u001b[0m u, v, k, data \u001b[39m=\u001b[39m \u001b[39mzip\u001b[39m(\u001b[39m*\u001b[39mG\u001b[39m.\u001b[39medges(keys\u001b[39m=\u001b[39m\u001b[39mTrue\u001b[39;00m, data\u001b[39m=\u001b[39m\u001b[39mTrue\u001b[39;00m))\n\u001b[0;32m     67\u001b[0m \u001b[39mif\u001b[39;00m fill_edge_geometry:\n\u001b[0;32m     68\u001b[0m     \u001b[39m# subroutine to get geometry for every edge: if edge already has\u001b[39;00m\n\u001b[0;32m     69\u001b[0m     \u001b[39m# geometry return it, otherwise create it using the incident nodes\u001b[39;00m\n",
      "\u001b[1;31mValueError\u001b[0m: graph contains no edges"
     ]
    }
   ],
   "source": [
    "handler.run_analysis()"
   ]
  }
 ],
 "metadata": {
  "kernelspec": {
   "display_name": "Python 3 (ipykernel)",
   "language": "python",
   "name": "python3"
  },
  "language_info": {
   "codemirror_mode": {
    "name": "ipython",
    "version": 3
   },
   "file_extension": ".py",
   "mimetype": "text/x-python",
   "name": "python",
   "nbconvert_exporter": "python",
   "pygments_lexer": "ipython3",
   "version": "3.10.13"
  }
 },
 "nbformat": 4,
 "nbformat_minor": 5
}

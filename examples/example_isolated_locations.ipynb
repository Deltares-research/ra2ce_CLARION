{
 "cells": [
  {
   "attachments": {},
   "cell_type": "markdown",
   "id": "e0bf8629",
   "metadata": {},
   "source": [
    "# RA2CE feature: Isolated locations\n",
    "**NOTE: TEXT WILL BE UPDATED**\n",
    "\n",
    "This notebook contains an example of the **isolated locations analysis** of the RA2CE model.\n",
    "\n",
    "First of all, we will import the packages we need to execute the notebook:"
   ]
  },
  {
   "cell_type": "code",
   "execution_count": null,
   "id": "e67d001f",
   "metadata": {},
   "outputs": [],
   "source": [
    "import geopandas as gpd\n",
    "import matplotlib.pyplot as plt\n",
    "from pathlib import Path\n",
    "from ra2ce.ra2ce_handler import Ra2ceHandler #import the ra2cehandler to run ra2ce analyses"
   ]
  },
  {
   "attachments": {},
   "cell_type": "markdown",
   "id": "0c5e8b7c",
   "metadata": {},
   "source": [
    "First, we will set the path to the ra2ce folder and we will initialize the names for the network and analysis ini files. Afterwards, let's find the examples data folder."
   ]
  },
  {
   "cell_type": "code",
   "execution_count": null,
   "id": "0d6562dd",
   "metadata": {},
   "outputs": [],
   "source": [
    "root_dir = Path().parent / \"data\" / \"isolated_locations\"  # set the root directory for the data\n",
    "\n",
    "network_ini = root_dir / \"network.ini\"\n",
    "assert network_ini.is_file()\n",
    "\n",
    "analyses_ini = root_dir / \"analyses.ini\"\n",
    "assert analyses_ini.is_file()"
   ]
  },
  {
   "attachments": {},
   "cell_type": "markdown",
   "id": "363f0bdb",
   "metadata": {},
   "source": [
    "# Isolated locations analysis\n",
    "EXPLANATION"
   ]
  },
  {
   "attachments": {},
   "cell_type": "markdown",
   "id": "4d8e4999",
   "metadata": {},
   "source": [
    "**Network.ini content**\n",
    "<br>\n",
    "<br>\n",
    "> [project]<br>\n",
    "name = isolated_locations<br>\n",
    "<br>\n",
    "[network]<br>\n",
    "directed = False<br>\n",
    "source = OSM download<br>\n",
    "primary_file = None<br>\n",
    "diversion_file = None<br>\n",
    "file_id = None<br>\n",
    "polygon = map.geojson<br>\n",
    "network_type = drive<br>\n",
    "road_types = motorway,motorway_link,trunk,trunk_link,primary,primary_link,secondary,secondary_link,tertiary,tertiary_link<br>\n",
    "save_gpkg = False<br>\n",
    "<br>\n",
    "[origins_destinations]<br>\n",
    "origins = None<br>\n",
    "destinations = None<br>\n",
    "origins_names = None<br>\n",
    "destinations_names = None<br>\n",
    "id_name_origin_destination = None<br>\n",
    "origin_count = None<br>                         \n",
    "origin_out_fraction = 1<br>\n",
    "category = category<br>\n",
    "<br>\n",
    "[hazard]<br>\n",
    "**hazard_map = max_flood_depth.tif**<br>\n",
    "hazard_id = None<br>\n",
    "hazard_field_name = waterdepth<br>\n",
    "**aggregate_wl = max**<br>\n",
    "**hazard_crs = EPSG:32736**<br>\n",
    "<br>\n",
    "*[cleanup]  # Can only be used if a network is created from a shapefile<br>\n",
    "snapping_threshold = None<br>\n",
    "segmentation_length = None<br>\n",
    "merge_lines = False<br>\n",
    "merge_on_id = False<br>\n",
    "cut_at_intersections = False<br>*"
   ]
  },
  {
   "attachments": {},
   "cell_type": "markdown",
   "id": "c02f18fa",
   "metadata": {},
   "source": [
    "Configure the network"
   ]
  },
  {
   "cell_type": "code",
   "execution_count": null,
   "id": "9dd1e91b",
   "metadata": {},
   "outputs": [],
   "source": [
    "handler = Ra2ceHandler(network=network_ini, analysis=analyses_ini)\n",
    "handler.configure()"
   ]
  },
  {
   "attachments": {},
   "cell_type": "markdown",
   "id": "3f1e2c70",
   "metadata": {},
   "source": [
    "**Analyses.ini content**\n",
    "<br>\n",
    "<br>\n",
    "> [project]<br>\n",
    "name = isolated_locations<br>\n",
    "<br>\n",
    "[analysis1]<br>\n",
    "name = multilink isolated locations<br>\n",
    "analysis = multi_link_isolated_locations<br>\n",
    "aggregate_wl = max<br>\n",
    "threshold = 1<br>\n",
    "weighing = length<br>\n",
    "category_field_name = category<br>\n",
    "save_gpkg = True<br>\n",
    "save_csv = True<br>"
   ]
  },
  {
   "cell_type": "code",
   "execution_count": null,
   "id": "a18f0f2a",
   "metadata": {},
   "outputs": [],
   "source": [
    "handler.run_analysis()"
   ]
  }
 ],
 "metadata": {
  "kernelspec": {
   "display_name": "Python 3 (ipykernel)",
   "language": "python",
   "name": "python3"
  },
  "language_info": {
   "codemirror_mode": {
    "name": "ipython",
    "version": 3
   },
   "file_extension": ".py",
   "mimetype": "text/x-python",
   "name": "python",
   "nbconvert_exporter": "python",
   "pygments_lexer": "ipython3",
   "version": "3.10.12"
  }
 },
 "nbformat": 4,
 "nbformat_minor": 5
}
